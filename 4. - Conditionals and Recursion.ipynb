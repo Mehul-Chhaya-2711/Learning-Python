{
 "cells": [
  {
   "cell_type": "code",
   "execution_count": 19,
   "metadata": {},
   "outputs": [
    {
     "name": "stdout",
     "output_type": "stream",
     "text": [
      "2.3333333333333335\n",
      "1\n",
      "False\n",
      "True\n",
      "<class 'bool'>\n",
      "\n",
      "\n",
      "Rational Operators\n",
      "\n",
      "\n",
      "x != y # x is not equal to y\n",
      "x > y # x is greater than y\n",
      "x < y # x is less than y\n",
      "x >= y # x is greater than or equal to y\n",
      "x <= y # x is less than or equal to y\n",
      "\n",
      "\n",
      "Logical Operators\n",
      "\n",
      "\n",
      "True\n",
      "True\n",
      "True\n",
      "10\n",
      "9\n",
      "8\n",
      "7\n",
      "6\n",
      "5\n",
      "4\n",
      "3\n",
      "2\n",
      "1\n",
      "You called me\n"
     ]
    }
   ],
   "source": [
    "print(7/3)        #Quotient\n",
    "print(7%3)        #Reminder Modulus operato\n",
    "print(7==3)       #Boolean operator False\n",
    "print(7==7)       #Boolean operator True\n",
    "print(type(True)) #Of a boolean class\n",
    "print('\\n')\n",
    "print('Rational Operators')\n",
    "print('\\n')\n",
    "print('x != y # x is not equal to y\\nx > y # x is greater than y\\nx < y # x is less than y\\nx >= y # x is greater than or equal to y\\nx <= y # x is less than or equal to y')\n",
    "print('\\n')\n",
    "print('Logical Operators')\n",
    "print('\\n')\n",
    "print(10%2 == 0 or 30%3 == 0)  #Checks for condition's exact matching\n",
    "print(not (7 > 10))            #Checks is 7 > 10 ? Output will be False. NOT GATE of False would be True\n",
    "print(17 and True)             #This gives True because Python defaults a number to True\n",
    "\n",
    "\n",
    "# Conditional Statements General Syntax:\n",
    "# Only if is conditional execution \n",
    "# Adding Else to it is alternative execution\n",
    "# Adding else if is chained conditionals\n",
    "#Conditionals under conditionals are nested conditionals\n",
    "\n",
    "\n",
    "# if condition:\n",
    "#     1 or more executionable statements\n",
    "    \n",
    "# else if: # or elif\n",
    "#     1 or more executionable statements\n",
    "\n",
    "# else:\n",
    "#     1 or more executionable statements\n",
    "\n",
    "#Recursion: Function calling it self\n",
    "def call_me(n):\n",
    "    if n <= 0:\n",
    "        print('You called me')\n",
    "    else:\n",
    "        print(n)\n",
    "        call_me(n-1)\n",
    "    \n",
    "call_me(10)   \n",
    "\n",
    "#Importnt Note: Recursion i.e. re-calling of same function is allowed for only upto 1000 times"
   ]
  },
  {
   "cell_type": "code",
   "execution_count": 31,
   "metadata": {},
   "outputs": [
    {
     "name": "stdout",
     "output_type": "stream",
     "text": [
      "Enter the values for number a3\n",
      "Enter the values for number b4\n",
      "Enter the values for number c5\n",
      "Enter the values for exponent n4\n",
      "No, IT does not work\n"
     ]
    }
   ],
   "source": [
    "#Simple Exercises\n",
    "\n",
    "# Fermat’s Last Theorem says that there are no positive integers a, b, and c such that\n",
    "# an + bn = cn\n",
    "# for any values of n greater than 2.\n",
    "# 1. Write a function named check_fermat that takes four parameters—a, b, c and n—and that\n",
    "# checks to see if Fermat’s theorem holds. If n is greater than 2 and it turns out to be true that\n",
    "# an + bn = cn\n",
    "# the program should print, “Holy smokes, Fermat was wrong!” Otherwise the program should\n",
    "# print, “No, that doesn’t work.”\n",
    "# 2. Write a function that prompts the user to input values for a, b, c and n, converts them to\n",
    "# integers, and uses check_fermat to check whether they violate Fermat’s theorem.\n",
    "\n",
    "a = int(input('Enter the values for number a'))\n",
    "b = int(input('Enter the values for number b'))\n",
    "c = int(input('Enter the values for number c'))\n",
    "n = int(input('Enter the values for exponent n'))\n",
    "def fermat_last_theorem(a,b,c,n):\n",
    "    if (a**n + b**n) == c**n:\n",
    "        if n > 2:\n",
    "            print('Holy smokes, Fermat was wrong!')\n",
    "        elif n <= 2:\n",
    "            print('Well may be it was a pythagorian triplet')\n",
    "    else:\n",
    "        print('No, IT does not work')\n",
    "            \n",
    "fermat_last_theorem(a,b,c,n)        "
   ]
  },
  {
   "cell_type": "code",
   "execution_count": 33,
   "metadata": {},
   "outputs": [
    {
     "name": "stdout",
     "output_type": "stream",
     "text": [
      "YES\n"
     ]
    }
   ],
   "source": [
    "# Write a function named is_triangle that takes three integers as arguments, and that prints\n",
    "# either “Yes” or “No,” depending on whether you can or cannot form a triangle from sticks\n",
    "# with the given lengths.\n",
    "\n",
    "def is_traingle(a,b,c):\n",
    "    if a >= (b+c) or b >= (a+c) or c >= (a+b):\n",
    "        print('YES')\n",
    "    else:\n",
    "        print('NO')\n",
    "\n",
    "is_traingle(1,2,3)        "
   ]
  }
 ],
 "metadata": {
  "kernelspec": {
   "display_name": "Python 3",
   "language": "python",
   "name": "python3"
  },
  "language_info": {
   "codemirror_mode": {
    "name": "ipython",
    "version": 3
   },
   "file_extension": ".py",
   "mimetype": "text/x-python",
   "name": "python",
   "nbconvert_exporter": "python",
   "pygments_lexer": "ipython3",
   "version": "3.8.3"
  }
 },
 "nbformat": 4,
 "nbformat_minor": 4
}
