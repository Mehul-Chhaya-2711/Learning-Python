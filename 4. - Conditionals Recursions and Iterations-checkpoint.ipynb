{
 "cells": [
  {
   "cell_type": "code",
   "execution_count": 19,
   "metadata": {},
   "outputs": [
    {
     "name": "stdout",
     "output_type": "stream",
     "text": [
      "2.3333333333333335\n",
      "1\n",
      "False\n",
      "True\n",
      "<class 'bool'>\n",
      "\n",
      "\n",
      "Rational Operators\n",
      "\n",
      "\n",
      "x != y # x is not equal to y\n",
      "x > y # x is greater than y\n",
      "x < y # x is less than y\n",
      "x >= y # x is greater than or equal to y\n",
      "x <= y # x is less than or equal to y\n",
      "\n",
      "\n",
      "Logical Operators\n",
      "\n",
      "\n",
      "True\n",
      "True\n",
      "True\n",
      "10\n",
      "9\n",
      "8\n",
      "7\n",
      "6\n",
      "5\n",
      "4\n",
      "3\n",
      "2\n",
      "1\n",
      "You called me\n"
     ]
    }
   ],
   "source": [
    "print(7/3)        #Quotient\n",
    "print(7%3)        #Reminder Modulus operato\n",
    "print(7==3)       #Boolean operator False\n",
    "print(7==7)       #Boolean operator True\n",
    "print(type(True)) #Of a boolean class\n",
    "print('\\n')\n",
    "print('Rational Operators')\n",
    "print('\\n')\n",
    "print('x != y # x is not equal to y\\nx > y # x is greater than y\\nx < y # x is less than y\\nx >= y # x is greater than or equal to y\\nx <= y # x is less than or equal to y')\n",
    "print('\\n')\n",
    "print('Logical Operators')\n",
    "print('\\n')\n",
    "print(10%2 == 0 or 30%3 == 0)  #Checks for condition's exact matching\n",
    "print(not (7 > 10))            #Checks is 7 > 10 ? Output will be False. NOT GATE of False would be True\n",
    "print(17 and True)             #This gives True because Python defaults a number to True\n",
    "\n",
    "\n",
    "# Conditional Statements General Syntax:\n",
    "# Only if is conditional execution \n",
    "# Adding Else to it is alternative execution\n",
    "# Adding else if is chained conditionals\n",
    "#Conditionals under conditionals are nested conditionals\n",
    "\n",
    "\n",
    "# if condition:\n",
    "#     1 or more executionable statements\n",
    "    \n",
    "# else if: # or elif\n",
    "#     1 or more executionable statements\n",
    "\n",
    "# else:\n",
    "#     1 or more executionable statements\n",
    "\n",
    "#Recursion: Function calling it self\n",
    "def call_me(n):\n",
    "    if n <= 0:\n",
    "        print('You called me')\n",
    "    else:\n",
    "        print(n)\n",
    "        call_me(n-1)\n",
    "    \n",
    "call_me(10)   \n",
    "\n",
    "#Importnt Note: Recursion i.e. re-calling of same function is allowed for only upto 1000 times\n",
    "#building recursive funtions on a go is a difficult task. One needs to constantly facot in new knowledge in their function interface,\n",
    "#keep on reducing the function size until it becomes a recursion. It is a logic learnt after lot of trials"
   ]
  },
  {
   "cell_type": "code",
   "execution_count": 31,
   "metadata": {},
   "outputs": [
    {
     "name": "stdout",
     "output_type": "stream",
     "text": [
      "Enter the values for number a3\n",
      "Enter the values for number b4\n",
      "Enter the values for number c5\n",
      "Enter the values for exponent n4\n",
      "No, IT does not work\n"
     ]
    }
   ],
   "source": [
    "#Simple Exercises\n",
    "\n",
    "# Fermat’s Last Theorem says that there are no positive integers a, b, and c such that\n",
    "# an + bn = cn\n",
    "# for any values of n greater than 2.\n",
    "# 1. Write a function named check_fermat that takes four parameters—a, b, c and n—and that\n",
    "# checks to see if Fermat’s theorem holds. If n is greater than 2 and it turns out to be true that\n",
    "# an + bn = cn\n",
    "# the program should print, “Holy smokes, Fermat was wrong!” Otherwise the program should\n",
    "# print, “No, that doesn’t work.”\n",
    "# 2. Write a function that prompts the user to input values for a, b, c and n, converts them to\n",
    "# integers, and uses check_fermat to check whether they violate Fermat’s theorem.\n",
    "\n",
    "a = int(input('Enter the values for number a'))\n",
    "b = int(input('Enter the values for number b'))\n",
    "c = int(input('Enter the values for number c'))\n",
    "n = int(input('Enter the values for exponent n'))\n",
    "def fermat_last_theorem(a,b,c,n):\n",
    "    if (a**n + b**n) == c**n:\n",
    "        if n > 2:\n",
    "            print('Holy smokes, Fermat was wrong!')\n",
    "        elif n <= 2:\n",
    "            print('Well may be it was a pythagorian triplet')\n",
    "    else:\n",
    "        print('No, IT does not work')\n",
    "            \n",
    "fermat_last_theorem(a,b,c,n)        "
   ]
  },
  {
   "cell_type": "code",
   "execution_count": 3,
   "metadata": {},
   "outputs": [
    {
     "name": "stdout",
     "output_type": "stream",
     "text": [
      "YES\n",
      "NO\n"
     ]
    }
   ],
   "source": [
    "# Write a function named is_triangle that takes three integers as arguments, and that prints\n",
    "# either “Yes” or “No,” depending on whether you can or cannot form a triangle from sticks\n",
    "# with the given lengths.\n",
    "\n",
    "def is_traingle(a,b,c):\n",
    "    if a >= (b+c) or b >= (a+c) or c >= (a+b):\n",
    "        print('YES')\n",
    "    else:\n",
    "        print('NO')\n",
    "\n",
    "is_traingle(1,2,3)   \n",
    "is_traingle(1,2,2)   "
   ]
  },
  {
   "cell_type": "code",
   "execution_count": 4,
   "metadata": {},
   "outputs": [
    {
     "name": "stdout",
     "output_type": "stream",
     "text": [
      "24\n",
      "Factorials can be calculated for only positive integer values\n",
      "None\n",
      "Factorials can be calculated for only integer values\n",
      "None\n"
     ]
    }
   ],
   "source": [
    "#FACTORIAL\n",
    "\n",
    "def factorial(n):\n",
    "    if not isinstance(n,int):   #isinstance function helps verify the type of arguments. In our case is n an int?\n",
    "        print('Factorials can be calculated for only integer values')\n",
    "        return None\n",
    "    elif n < 0:\n",
    "        print('Factorials can be calculated for only positive integer values')\n",
    "        return None\n",
    "    elif n ==0 :\n",
    "        return 1\n",
    "    else:\n",
    "        return n*factorial(n-1)\n",
    "    \n",
    "print(factorial(4))    \n",
    "print(factorial(-4))    \n",
    "print(factorial('me'))   "
   ]
  },
  {
   "cell_type": "code",
   "execution_count": null,
   "metadata": {},
   "outputs": [],
   "source": [
    "#FIBONNACI SEQUENCE\n",
    "\n",
    "def fibonnaci(a,b):\n",
    "        a = a\n",
    "        b = b\n",
    "        c = a+b\n",
    "        print(c)\n",
    "        fibonnaci(b,c)\n",
    "\n",
    "fibonnaci(0,1)   \n",
    "\n",
    "#A more sphosticated way would have been to reference numbers by their position in sequence i.e 1 and 2 positions backwards from current\n",
    "\n",
    "def fibonacci (n):\n",
    "    if n == 0:\n",
    "        return 0\n",
    "    elif n == 1:\n",
    "        return 1\n",
    "    else:\n",
    "        return fibonacci(n-1) + fibonacci(n-2)"
   ]
  },
  {
   "cell_type": "code",
   "execution_count": 5,
   "metadata": {},
   "outputs": [
    {
     "name": "stdout",
     "output_type": "stream",
     "text": [
      "qwertyuiop : Not a palindorme\n",
      "mehul : Not a palindorme\n",
      "acvbvca : Yes is a palindrome\n",
      "qwerewq : Yes is a palindrome\n",
      "hohoohoh : Yes is a palindrome\n",
      "lalaalal : Yes is a palindrome\n"
     ]
    }
   ],
   "source": [
    "# PALINDROME\n",
    "\n",
    "def is_palindrome(n):\n",
    "    a = n\n",
    "    c = ''\n",
    "    d = ''\n",
    "    for i in range(0,len(a)):\n",
    "        c = c + a[i]\n",
    "    for i in range(len(a)-1,-1,-1):\n",
    "        d = d + a[i]\n",
    "    if c == d:\n",
    "        print(n,': Yes is a palindrome')\n",
    "    else:\n",
    "        print(n,': Not a palindorme')\n",
    "\n",
    "is_palindrome('qwertyuiop')\n",
    "is_palindrome('mehul')\n",
    "is_palindrome('acvbvca')\n",
    "is_palindrome('qwerewq')\n",
    "is_palindrome('hohoohoh')\n",
    "is_palindrome('lalaalal')"
   ]
  },
  {
   "cell_type": "code",
   "execution_count": 6,
   "metadata": {},
   "outputs": [
    {
     "name": "stdout",
     "output_type": "stream",
     "text": [
      "True\n"
     ]
    }
   ],
   "source": [
    "# number, a, is a power of b if it is divisible by b and a/b is a power of b. Write a\n",
    "# function called is_power that takes parameters a and b and returns True if a is a power of b.\n",
    "\n",
    "#power of 2 with exponent 4 is 16\n",
    "#Question here would be is 16 a power of 2? Is 16 something that can be achieved by multiplying 2 with it self multiple times?\n",
    "\n",
    "def is_power(a, b):\n",
    "    while a % b == 0:\n",
    "        if a == b: return True\n",
    "        a /= b\n",
    "    return False\n",
    "\n",
    "\n",
    "print(is_power(64, 2))    "
   ]
  },
  {
   "cell_type": "code",
   "execution_count": 19,
   "metadata": {},
   "outputs": [
    {
     "name": "stdout",
     "output_type": "stream",
     "text": [
      "gcd is:  200\n",
      "gcd is:  20\n",
      "gcd is:  2\n",
      "gcd is:  60\n",
      "400\n",
      "200\n",
      "200\n",
      "400\n",
      "200\n",
      "0\n",
      "GCD is:  200\n",
      "400\n",
      "20\n",
      "20\n",
      "400\n",
      "20\n",
      "0\n",
      "GCD is:  20\n",
      "400\n",
      "106\n",
      "106\n",
      "400\n",
      "82\n",
      "106\n",
      "24\n",
      "82\n",
      "10\n",
      "24\n",
      "4\n",
      "10\n",
      "2\n",
      "4\n",
      "2\n",
      "0\n",
      "GCD is:  2\n",
      "600\n",
      "180\n",
      "180\n",
      "600\n",
      "60\n",
      "180\n",
      "60\n",
      "0\n",
      "GCD is:  60\n"
     ]
    }
   ],
   "source": [
    "#Greatest Common Divisor\n",
    "\n",
    "#Using Loop\n",
    "\n",
    "# Logic is: GCD cannot be greater than the smallest of the 2 numbers. Hence the highest number between 1 and 0 for which we\n",
    "# get 0 as reminder upon dividing both numbers by it will be our GCD \n",
    "\n",
    "def GCD(a,b):\n",
    "    if a == b:\n",
    "        print(a)\n",
    "    elif a > b:\n",
    "        c = b\n",
    "    else:\n",
    "        c = a\n",
    "    for i in range(1,c+1):\n",
    "        if ((a % i == 0) and (b % i == 0)): #The largest number with 0 reminder for both a and b will get stored\n",
    "            gcd = i\n",
    "    print('gcd is: ',gcd)    \n",
    "        \n",
    "GCD(200,400)            \n",
    "GCD(20,400)\n",
    "GCD(106,400)\n",
    "GCD(180,600)\n",
    "\n",
    "#Using recursion\n",
    "\n",
    "def GCD(a,b):\n",
    "    if a == b or b == 0:  #Print statements will make the flow of recursion clear\n",
    "        print(a)\n",
    "        print(b)\n",
    "        return a\n",
    "    else:\n",
    "        print(b)\n",
    "        print(a)\n",
    "        return GCD(b,a%b)\n",
    "    \n",
    "print('GCD is: ',GCD(200,400))   \n",
    "print('GCD is: ',GCD(20,400))  \n",
    "print('GCD is: ',GCD(106,400))  \n",
    "print('GCD is: ',GCD(180,600))  "
   ]
  },
  {
   "cell_type": "code",
   "execution_count": 27,
   "metadata": {},
   "outputs": [
    {
     "name": "stdout",
     "output_type": "stream",
     "text": [
      "9\n",
      "5.0\n",
      "3.4\n",
      "3.023529411764706\n",
      "3.00009155413138\n",
      "3.000000001396984\n",
      "3.0\n"
     ]
    }
   ],
   "source": [
    "#Getting Square root by Newton's formula of approximation\n",
    "\n",
    "a = 9                 #Value of the number we want to find square root of\n",
    "x = a                  #Square root of number will always be less than or equal to number it self hence safe to take \n",
    "while True:            #While the confition holds; in our case while the loop does not break : KEEP GOING\n",
    "    print(x)           #Print the value of X\n",
    "    y = (x + a/x) / 2  #Newton's formulae to estimate the square root of a number\n",
    "    if y == x:          #If y = x it means we have found the sqaure root\n",
    "        break\n",
    "    x = y              #take x = y; why? Y may not be exact square root of a number but will be the closer approximation of sqaure root than before. Next time Y will still decrease and loop will go on until the closest approximation reaches the true values of sqaure root. Follow the print statements to understand it better\n",
    "    "
   ]
  },
  {
   "cell_type": "code",
   "execution_count": 46,
   "metadata": {},
   "outputs": [
    {
     "name": "stdout",
     "output_type": "stream",
     "text": [
      "1\n",
      "1103.0\n",
      "2\n",
      "48906789079.5\n",
      "3\n",
      "497109067193.9636\n",
      "4\n",
      "10861775765.008667\n",
      "5\n",
      "4258709.220063275\n",
      "6\n",
      "83.0911058703009\n",
      "7\n",
      "0.0001476294184502596\n",
      "8\n",
      "3.5658705815073815e-11\n",
      "9\n",
      "1.5578411012082693e-18\n",
      "160708075.54591268\n",
      "556881891933.7836\n"
     ]
    }
   ],
   "source": [
    "# The mathematician Srinivasa Ramanujan found an infinite series that can be used to\n",
    "# generate a numerical approximation of 1/pi:\n",
    "# Write a function called estimate_pi that uses this formula to compute and return an estimate of\n",
    "# pi. It should use a while loop to compute terms of the summation until the last term is smaller than\n",
    "# 1e-15 (which is Python notation for 10^-15). You can check the result by comparing it to math.pi.\n",
    "\n",
    "import math as m\n",
    "\n",
    "def factorial(n):\n",
    "    if not isinstance(n,int):   #isinstance function helps verify the type of arguments. In our case is n an int?\n",
    "        print('Factorials can be calculated for only integer values')\n",
    "        return None\n",
    "    elif n < 0:\n",
    "        print('Factorials can be calculated for only positive integer values')\n",
    "        return None\n",
    "    elif n ==0 :\n",
    "        return 1\n",
    "    else:\n",
    "        return n*factorial(n-1)\n",
    "\n",
    "\n",
    "def estimate_pi():\n",
    "    d = 0\n",
    "    c = 1\n",
    "    k = 0\n",
    "    while c > 1e-15:\n",
    "        c = (factorial(4*k)*(1103 + 26390*k))/((factorial(4*k))**4)*(396**(4*k))\n",
    "        d = d+c\n",
    "        k = k+1\n",
    "        print(k)\n",
    "        print(c)\n",
    "    print((2*m.sqrt(2)/9801)*d) \n",
    "    print(d)\n",
    "        \n",
    "estimate_pi()      \n",
    "\n",
    "#This somehow is not giving right results"
   ]
  }
 ],
 "metadata": {
  "kernelspec": {
   "display_name": "Python 3",
   "language": "python",
   "name": "python3"
  },
  "language_info": {
   "codemirror_mode": {
    "name": "ipython",
    "version": 3
   },
   "file_extension": ".py",
   "mimetype": "text/x-python",
   "name": "python",
   "nbconvert_exporter": "python",
   "pygments_lexer": "ipython3",
   "version": "3.8.3"
  }
 },
 "nbformat": 4,
 "nbformat_minor": 4
}
