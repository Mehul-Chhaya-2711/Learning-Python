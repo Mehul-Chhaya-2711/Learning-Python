{
 "cells": [
  {
   "cell_type": "code",
   "execution_count": 33,
   "metadata": {},
   "outputs": [
    {
     "name": "stdout",
     "output_type": "stream",
     "text": [
      "12 : 45 : 30\n",
      "False\n"
     ]
    }
   ],
   "source": [
    "#USE OF CLASSES AND OBJECTS MANDATED \n",
    "\n",
    "# Write a function called print_time that takes a Time object and prints it in the\n",
    "# form hour:minute:second. Hint: the format sequence '%.2d' prints an integer using at least\n",
    "# two digits, including a leading zero if necessary.\n",
    "\n",
    "class time():\n",
    "    \"\"\"It has 3 attributes of Hour, Minute and Second\"\"\"\n",
    "    \n",
    "t1 = time()\n",
    "t1.Hour = 12\n",
    "t1.Minute = 45\n",
    "t1.Seconds = 30\n",
    "\n",
    "def print_time(t1):\n",
    "    print(t1.Hour,':',t1.Minute,\":\",t1.Seconds)\n",
    "    \n",
    "print_time(t1)  \n",
    "\n",
    "# Write a boolean function called is_after that takes two Time objects, t1 and t2,\n",
    "# and returns True if t1 follows t2 chronologically and False otherwise. \n",
    "#Challenge: don’t use an if statement.\n",
    "\n",
    "t2 = time()\n",
    "t2.Hour = 12\n",
    "t2.Minute = 45\n",
    "t2.Seconds = 35\n",
    "\n",
    "def is_after(t1,t2):\n",
    "    \"\"\"Let us convert the times in to absolute seconds passes post 12:00 AM\"\"\"\n",
    "    time_1 = t1.Hour*3600+t1.Minute*60+t1.Seconds\n",
    "    time_2 = t2.Hour*3600+t2.Minute*60+t2.Seconds\n",
    "    return(time_1 > time_2)\n",
    "    \n",
    "print(is_after(t1,t2))    "
   ]
  },
  {
   "cell_type": "code",
   "execution_count": 34,
   "metadata": {},
   "outputs": [
    {
     "name": "stdout",
     "output_type": "stream",
     "text": [
      "(25, 30, 60)\n"
     ]
    }
   ],
   "source": [
    "#This example shows difference between modifier functions and pure functions\n",
    "\n",
    "#Pure function (Does not alter the parameters it get)\n",
    "def add_time(t1,t2):\n",
    "    sumt = time()\n",
    "    sumt.Hour = t1.Hour + t2.Hour\n",
    "    sumt.Minute = t1.Minute + t2.Minute\n",
    "    sumt.Seconds = t1.Seconds + t2.Seconds\n",
    "    if sumt.Minute > 60:\n",
    "        sumt.Minute = sumt.Minute - 60\n",
    "        sumt.Hour = sumt.Hour + 1\n",
    "    if sumt.Seconds > 60:\n",
    "        sumt.Seconds = sumt.Seconds - 60\n",
    "        sumt.Minute = sumt.Minute + 1\n",
    "    return(sumt.Hour,sumt.Minute,sumt.Seconds)\n",
    "    \n",
    "print(add_time(t1,t1))   \n",
    "\n",
    "#Modifier function   (This modifies the parameters fed to it)\n",
    "def increment(time, seconds):\n",
    "    time.Seconds += seconds\n",
    "    if time.Seconds >= 60:\n",
    "        time.Seconds -= 60\n",
    "        time.Minute += 1\n",
    "        if time.Seconds >= 60:\n",
    "            increment(time,time.Seconds)\n",
    "            \n",
    "print(increment(t1,130))   #Will throw a recursion error for max depth of 1000 getting exceeded         "
   ]
  },
  {
   "cell_type": "code",
   "execution_count": 45,
   "metadata": {},
   "outputs": [
    {
     "name": "stdout",
     "output_type": "stream",
     "text": [
      "(0, 1, 0, 0)\n",
      "(0, 0, 16, 40)\n",
      "(0, 2, 46, 40)\n",
      "(4, 101, 51, 40)\n"
     ]
    }
   ],
   "source": [
    "#Write a function that converts integer(seconds) to time\n",
    "\n",
    "def int_2_time(seconds):\n",
    "    new_time = time()\n",
    "    new_time.day = 0           #we can add an extra attribute to class object anytime we wish\n",
    "    Minutes,new_time.Seconds = divmod(seconds,60) #divmod will return a tuple of quotient and reminder\n",
    "    hour,new_time.Minutes = divmod(Minutes,60)    #divmod will return a tuple of quotient and reminder\n",
    "    day,new_time.Hours = divmod(hour,24)\n",
    "    new_time.Hour = hour\n",
    "    new_time.day = day\n",
    "    return(new_time.day,new_time.Hour,new_time.Minutes,new_time.Seconds)\n",
    "\n",
    "print(int_2_time(3600))\n",
    "print(int_2_time(1000))\n",
    "print(int_2_time(10000))\n",
    "print(int_2_time(366700))"
   ]
  },
  {
   "cell_type": "code",
   "execution_count": 48,
   "metadata": {},
   "outputs": [
    {
     "name": "stdout",
     "output_type": "stream",
     "text": [
      "(15, 382, 45, 0)\n",
      "(0.0, 0.0, 1.0, 31.86)\n"
     ]
    }
   ],
   "source": [
    "# Write a function called mul_time that takes a Time object and a number and returns\n",
    "# a new Time object that contains the product of the original Time and the number.\n",
    "\n",
    "def mul_time(t1,multiplier):\n",
    "    new_seconds = (t1.Hour*3600+t1.Minute*60+t1.Seconds)*multiplier\n",
    "    return(int_2_time(new_seconds))\n",
    "\n",
    "print(mul_time(t1,30))\n",
    "\n",
    "# Now use mul_time to write a function that takes a Time object that represents the finishing time\n",
    "# in a race, and a number that represents the distance, and returns a Time object that represents the\n",
    "# average pace (time per mile).\n",
    "\n",
    "def time_per_mile(finishing_time,track_length):\n",
    "    new_seconds = (t1.Hour*3600+t1.Minute*60+t1.Seconds)/track_length\n",
    "    return(int_2_time(new_seconds))\n",
    "\n",
    "print(time_per_mile(t1,500))   #500 kilometers"
   ]
  },
  {
   "cell_type": "code",
   "execution_count": 86,
   "metadata": {},
   "outputs": [
    {
     "name": "stdout",
     "output_type": "stream",
     "text": [
      "6\n",
      "1 4\n",
      "2 5\n",
      "3 6\n",
      "1994-12-06\n"
     ]
    }
   ],
   "source": [
    "#this portion is specifically into exploring datetime module that is it rather than creating objects of our own\n",
    "\n",
    "# 1.Use the datetime module to write a program that gets the current date and prints the day of\n",
    "# the week.\n",
    "# 2. Write a program that takes a birthday as input and prints the user’s age and the number of\n",
    "# days until their next birthday.\n",
    "# 3. For two people born on different days, there is a day when one is twice as old as the other.\n",
    "# That’s their Double Day. Write a program that takes two birthdays and computes their Double\n",
    "# Day.\n",
    "# 4. For a little more challenge, write the more general version that computes the day when one\n",
    "# person is n times older than the other.\n",
    "\n",
    "from datetime import date,timedelta\n",
    "import datetime\n",
    "\n",
    "#Answer 1\n",
    "def get_day_of_the_week(date):\n",
    "    return(date.weekday())\n",
    "\n",
    "print(get_day_of_the_week(date.today()))\n",
    "\n",
    "#answer 2\n",
    "def days_to_next_bday(bday):\n",
    "    current_year = (datetime.datetime.now()).year\n",
    "    bday_next_year = bday.replace(year = current_year + 1)\n",
    "    current_date = date.today()\n",
    "    return(bday_next_year-current_date)\n",
    "\n",
    "days_to_next_bday(date(1994,11,27))\n",
    "\n",
    "\n",
    "# Answer for 3 as well as 4\n",
    "def double_days(bday_1,bday_2,n=2):    #this function can be divided into blocks and be written recursively\n",
    "    date1 = bday_1\n",
    "    date2 = bday_2\n",
    "    if bday_1 < bday_2:\n",
    "        days1 = 0\n",
    "        days2 = (bday_2-bday_1).days\n",
    "        while True:\n",
    "            days1 += 1\n",
    "            days2 += 1\n",
    "            print(days1,days2)\n",
    "            if days2 == n*days1:\n",
    "                break\n",
    "        return(bday_2 + timedelta(days2))\n",
    "    else:\n",
    "        days2 = 0\n",
    "        days1 = (bday_1-bday_2).days\n",
    "        while True:\n",
    "            days1 += 1\n",
    "            days2 += 1\n",
    "            print(days1,days2)\n",
    "            if days1 == n*days2:\n",
    "                break\n",
    "        return(bday_1 + timedelta(days1))        \n",
    "        \n",
    "print(double_days(date(1994,11,27),date(1994,11,30))) \n",
    "    "
   ]
  }
 ],
 "metadata": {
  "kernelspec": {
   "display_name": "Python 3",
   "language": "python",
   "name": "python3"
  },
  "language_info": {
   "codemirror_mode": {
    "name": "ipython",
    "version": 3
   },
   "file_extension": ".py",
   "mimetype": "text/x-python",
   "name": "python",
   "nbconvert_exporter": "python",
   "pygments_lexer": "ipython3",
   "version": "3.8.3"
  }
 },
 "nbformat": 4,
 "nbformat_minor": 4
}
