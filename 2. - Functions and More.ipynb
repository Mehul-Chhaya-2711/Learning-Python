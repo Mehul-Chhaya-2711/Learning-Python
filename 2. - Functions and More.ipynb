{
 "cells": [
  {
   "cell_type": "code",
   "execution_count": 45,
   "metadata": {},
   "outputs": [
    {
     "name": "stdout",
     "output_type": "stream",
     "text": [
      "I'm a lumberjack, and I'm okay.\n",
      "I sleep all night and I work all day.\n"
     ]
    }
   ],
   "source": [
    "# FUNCTIONS \n",
    "\n",
    "# Function “takes” an argument and “returns” a result. The result is called the return value.\n",
    "# A module is a file that contains a collection of related functions. Example MATH is module containing function log10 which can\n",
    "# be used as math.log10\n",
    "\n",
    "# general syntax\n",
    "# def function_name(argument): >>> this is known as a header; def is a key word to define functions\n",
    "#     parameters/attributes = these are the parts of function that process the argument; their existence is local to function and cannot be 'referenced to' outside the function\n",
    "#     return_value  =  some processing on argument  >> body is always indented with 4 spaces from left margin\n",
    "#     return_value\n",
    "\n",
    "# 2 peculiar type conversion cases\n",
    "# int(str) >> this will throw error\n",
    "# str(int) >> this will convert say 12 to '12'\n",
    "\n",
    "# a Simple example of function\n",
    "def print_lyrics():\n",
    "    print(\"I'm a lumberjack, and I'm okay.\")\n",
    "    print(\"I sleep all night and I work all day.\")\n",
    "print_lyrics()"
   ]
  },
  {
   "cell_type": "code",
   "execution_count": 46,
   "metadata": {},
   "outputs": [
    {
     "name": "stdout",
     "output_type": "stream",
     "text": [
      "I'm a lumberjack, and I'm okay.\n",
      "I sleep all night and I work all day.\n",
      "I'm a lumberjack, and I'm okay.\n",
      "I sleep all night and I work all day.\n",
      "what is the type of this function? :  <class 'function'>\n",
      "I'm a lumberjack, and I'm okay.\n",
      "I sleep all night and I work all day.\n",
      "I'm a lumberjack, and I'm okay.\n",
      "I sleep all night and I work all day.\n",
      "what is the type of this function's return values? :  <class 'NoneType'>\n",
      "what is the type of this function's return values? :  <class 'str'>\n"
     ]
    }
   ],
   "source": [
    "#Understanding various types of simple yet subtly encountered errors related to functions\n",
    "\n",
    "#1. NO ERROR\n",
    "\n",
    "\n",
    "#A function that only prints but returns nothing - also known as VOID FUNCTIONS \n",
    "def print_lyrics():\n",
    "    print(\"I'm a lumberjack, and I'm okay.\")\n",
    "    print(\"I sleep all night and I work all day.\")\n",
    "\n",
    "#A funstion that does retun some value in the end - also knwon as FRUITFUL FUNECTIONS\n",
    "def print_lyrics1():\n",
    "    return 'Hi i am getting returned bwahh hahahah'\n",
    "    \n",
    "#A function that uses other functions    \n",
    "def repeat_lyrics():\n",
    "    print_lyrics()\n",
    "    print_lyrics()\n",
    "    \n",
    "#A function that uses function which returns values and in turn returns same values    \n",
    "def repeat_lyrics1():\n",
    "    return print_lyrics1()\n",
    "    \n",
    "repeat_lyrics()\n",
    "#A function's type is funciton object; it's value's type is the kind of the values returned whoch could be None/str/int etc\n",
    "print('what is the type of this function? : ',type(repeat_lyrics))\n",
    "print('what is the type of this function\\'s return values? : ',type(repeat_lyrics()))\n",
    "print('what is the type of this function\\'s return values? : ',type(repeat_lyrics1()))"
   ]
  },
  {
   "cell_type": "code",
   "execution_count": 47,
   "metadata": {},
   "outputs": [
    {
     "name": "stdout",
     "output_type": "stream",
     "text": [
      "following is the error it wil throw:\n",
      " Error Type:NameError\n",
      " Error Message:  name 'repeat_lyrics' is not defined\n"
     ]
    }
   ],
   "source": [
    "#2. ERROR CASE 1 \n",
    "# Executing a function before creating one. A Function always needs to be defined before the line where it is getting called for first time\n",
    "\n",
    "#delete function removes any PRE-Created functions in same sessions of a python script\n",
    "#To run this window twice it is necessary to run above 2 windows in between 2 successive executions of this one\n",
    "del print_lyrics #Deleting both the functions to be able to generate an error below as they are already present up in the ipynb file\n",
    "del repeat_lyrics #Deleting both the functions to be able to generate an error below as they are already present up in the ipynb file\n",
    "\n",
    "def print_lyrics():\n",
    "    print(\"I'm a lumberjack, and I'm okay.\")\n",
    "    print(\"I sleep all night and I work all day.\")\n",
    "\n",
    "#Do not pay too much attention to TRY EXCEPT as same will be covered later in the end, It has been used for the output purpose only \n",
    "try:\n",
    "    repeat_lyrics()\n",
    "except NameError as error:\n",
    "    print('following is the error it wil throw:\\n','Error Type:NameError\\n','Error Message: ',error) #here we are printing the error message    \n",
    "\n",
    "def repeat_lyrics():\n",
    "    print_lyrics()\n",
    "    print_lyrics()\n",
    "    "
   ]
  },
  {
   "cell_type": "code",
   "execution_count": 52,
   "metadata": {},
   "outputs": [
    {
     "ename": "NameError",
     "evalue": "name 'randombabblegaggle' is not defined",
     "output_type": "error",
     "traceback": [
      "\u001b[1;31m---------------------------------------------------------------------------\u001b[0m",
      "\u001b[1;31mNameError\u001b[0m                                 Traceback (most recent call last)",
      "\u001b[1;32m<ipython-input-52-5572804b2e0d>\u001b[0m in \u001b[0;36m<module>\u001b[1;34m\u001b[0m\n\u001b[0;32m     15\u001b[0m     \u001b[0mprint\u001b[0m\u001b[1;33m(\u001b[0m\u001b[0mresult\u001b[0m\u001b[1;33m)\u001b[0m\u001b[1;33m\u001b[0m\u001b[1;33m\u001b[0m\u001b[0m\n\u001b[0;32m     16\u001b[0m \u001b[1;33m\u001b[0m\u001b[0m\n\u001b[1;32m---> 17\u001b[1;33m \u001b[0mfunction_exponent\u001b[0m\u001b[1;33m(\u001b[0m\u001b[0mfunction_add\u001b[0m\u001b[1;33m(\u001b[0m\u001b[1;36m2\u001b[0m\u001b[1;33m,\u001b[0m\u001b[1;36m3\u001b[0m\u001b[1;33m)\u001b[0m\u001b[1;33m,\u001b[0m\u001b[0mfunction_add\u001b[0m\u001b[1;33m(\u001b[0m\u001b[1;36m2\u001b[0m\u001b[1;33m,\u001b[0m\u001b[1;36m3\u001b[0m\u001b[1;33m)\u001b[0m\u001b[1;33m)\u001b[0m\u001b[1;33m\u001b[0m\u001b[1;33m\u001b[0m\u001b[0m\n\u001b[0m",
      "\u001b[1;32m<ipython-input-52-5572804b2e0d>\u001b[0m in \u001b[0;36mfunction_exponent\u001b[1;34m(base, exponent)\u001b[0m\n\u001b[0;32m     12\u001b[0m \u001b[1;32mdef\u001b[0m \u001b[0mfunction_exponent\u001b[0m\u001b[1;33m(\u001b[0m\u001b[0mbase\u001b[0m\u001b[1;33m,\u001b[0m\u001b[0mexponent\u001b[0m\u001b[1;33m)\u001b[0m\u001b[1;33m:\u001b[0m\u001b[1;33m\u001b[0m\u001b[1;33m\u001b[0m\u001b[0m\n\u001b[0;32m     13\u001b[0m     \u001b[0mresult\u001b[0m \u001b[1;33m=\u001b[0m \u001b[0mbase\u001b[0m\u001b[1;33m**\u001b[0m\u001b[0mexponent\u001b[0m\u001b[1;33m\u001b[0m\u001b[1;33m\u001b[0m\u001b[0m\n\u001b[1;32m---> 14\u001b[1;33m     \u001b[0mrandombabblegaggle\u001b[0m\u001b[1;33m\u001b[0m\u001b[1;33m\u001b[0m\u001b[0m\n\u001b[0m\u001b[0;32m     15\u001b[0m     \u001b[0mprint\u001b[0m\u001b[1;33m(\u001b[0m\u001b[0mresult\u001b[0m\u001b[1;33m)\u001b[0m\u001b[1;33m\u001b[0m\u001b[1;33m\u001b[0m\u001b[0m\n\u001b[0;32m     16\u001b[0m \u001b[1;33m\u001b[0m\u001b[0m\n",
      "\u001b[1;31mNameError\u001b[0m: name 'randombabblegaggle' is not defined"
     ]
    }
   ],
   "source": [
    "# What is a TRACE BACK? - traceback: A list of the functions that are executing, printed when an exception occurs.\n",
    "\n",
    "# It is backward listing of functions to show from where a program execution failed so that we could go and correct it.\n",
    "\n",
    "# Did not ring a bell? \n",
    "\n",
    "# Look at the following output.\n",
    "\n",
    "def function_add(num1,num2):\n",
    "    num3 = num1 + num2\n",
    "    return num3\n",
    "def function_exponent(base,exponent):\n",
    "    result = base**exponent\n",
    "    randombabblegaggle\n",
    "    print(result)\n",
    "\n",
    "function_exponent(function_add(2,3),function_add(2,3))  \n",
    "\n",
    "#in the above program the trace back error goes from function_exponent(line 17 where it is called) to\n",
    "#(line 14 where we have a undefined variable randombabblegaggle) \n",
    "#This is python's way of bottom top approach which is also a way of debugging and let us know that error occurs in line 14"
   ]
  },
  {
   "cell_type": "code",
   "execution_count": 53,
   "metadata": {},
   "outputs": [],
   "source": [
    "# THREE KEY BENEFITS OF FUNCTIONS\n",
    "\n",
    "# 1. MAKES DEBUGGING EASY\n",
    "# 2. REPETITIVE STATEMENTS GET CLUBBED REDUCING REDUNANCY\n",
    "# 3. INCREASES READABILITY QUOTIENT"
   ]
  },
  {
   "cell_type": "code",
   "execution_count": 57,
   "metadata": {},
   "outputs": [
    {
     "name": "stdout",
     "output_type": "stream",
     "text": [
      "enter a stringmehul\n",
      "                                                                 mehul\n"
     ]
    }
   ],
   "source": [
    "#EXERCISES\n",
    "\n",
    "# PROBLEM STATEMENT 1\n",
    "# Write a function named right_justify that takes a string named s as a parameter and prints the\n",
    "# string with enough leading spaces so that the last letter of the string is in column 70 of the display.\n",
    "\n",
    "ARGUMENT = input('enter a string')\n",
    "def right_justify(ARGUMENT):\n",
    "        length = len(ARGUMENT)\n",
    "        total_length = 70\n",
    "        space = ' '\n",
    "        required_number_of_space = 70 - length\n",
    "        new_space_string = space*required_number_of_space\n",
    "        final_string = new_space_string + ARGUMENT\n",
    "        print(final_string)\n",
    "        \n",
    "right_justify(ARGUMENT)        "
   ]
  },
  {
   "cell_type": "code",
   "execution_count": 163,
   "metadata": {},
   "outputs": [
    {
     "name": "stdout",
     "output_type": "stream",
     "text": [
      "ANSWER TO PROBLEM 1\n",
      "\n",
      "4\n",
      "4\n",
      "ANSWER TO PROBLEM 2\n",
      "\n",
      "4\n",
      "4\n",
      "4\n",
      "4\n",
      "Enter the length of the bars4\n",
      "\n",
      "ANSWER TO PROBLEM 3\n",
      "+----+\n",
      "\n",
      "|    |\n",
      "|    |\n",
      "|    |\n",
      "|    |\n",
      "\n",
      "+----+\n",
      "\n",
      "Enter the number of rows5\n",
      "Enter the number of columns6\n",
      "Enter the length of the bars5\n",
      "+-----+-----+-----+-----+-----+-----+\n",
      "|     |     |     |     |     |     |\n",
      "+-----+-----+-----+-----+-----+-----+\n",
      "|     |     |     |     |     |     |\n",
      "+-----+-----+-----+-----+-----+-----+\n",
      "|     |     |     |     |     |     |\n",
      "+-----+-----+-----+-----+-----+-----+\n",
      "|     |     |     |     |     |     |\n",
      "+-----+-----+-----+-----+-----+-----+\n",
      "|     |     |     |     |     |     |\n",
      "+-----+-----+-----+-----+-----+-----+\n"
     ]
    }
   ],
   "source": [
    "#PROBLEM STATEMENT 2\n",
    "\n",
    "#A function object is a function's name without parenthesis\n",
    "\n",
    "#create something of following nature\n",
    "\n",
    "# 1.\n",
    "# A function that takes two arguments, a function object and a value, and calls the\n",
    "# function twice, passing the value as an argument.\n",
    "\n",
    "def just_a_function(a):\n",
    "    print(a)\n",
    "\n",
    "def do_twice(a,b):\n",
    "    a(b)\n",
    "    a(b)\n",
    "\n",
    "print('ANSWER TO PROBLEM 1\\n')    \n",
    "do_twice(just_a_function,4)   \n",
    "\n",
    "# 2.\n",
    "# Define a new function called do_four that takes a function object and a value and calls the\n",
    "# function four times, passing the value as a parameter. There should be only two statements in\n",
    "# the body of this function, not four.\n",
    "\n",
    "def do_twicee(b):\n",
    "    just_a_function(b)\n",
    "    just_a_function(b)\n",
    "    \n",
    "def do_four(a,b):\n",
    "    a(b)\n",
    "    a(b)\n",
    "\n",
    "print('ANSWER TO PROBLEM 2\\n') \n",
    "do_four(do_twicee,4)\n",
    "\n",
    "# 3.\n",
    "# Create a function that prints a square without using looping . Use only print statements that too minimal\n",
    "\n",
    "length_of_arm = int(input('Enter the length of the bars')) # This is an example of type casting.\n",
    "h_arm_corners = '+'\n",
    "h_arm_support = '-'\n",
    "v_arm_support = '|'\n",
    "v_arm_spaces = ' '\n",
    "v_arm_vs = '\\n'\n",
    "\n",
    "def top_bottom_line():\n",
    "    print(h_arm_corners+h_arm_support*length_of_arm+h_arm_corners+v_arm_vs)\n",
    "def vertical_line(a):\n",
    "    a()\n",
    "    print((v_arm_support+v_arm_spaces*length_of_arm+v_arm_support+v_arm_vs)*length_of_arm)\n",
    "    a()\n",
    "def square_block():\n",
    "    vertical_line(top_bottom_line)\n",
    "\n",
    "print('\\nANSWER TO PROBLEM 3') \n",
    "square_block()    \n",
    "\n",
    "# 4.\n",
    "# Create a function that prints a grid of desired numbers of rows and columns again by not using loops\n",
    "\n",
    "number_of_rows = int(input('Enter the number of rows')) \n",
    "number_of_columns = int(input('Enter the number of columns')) \n",
    "length_of_arm = int(input('Enter the length of the bars'))\n",
    "h_arm_corners = '+'\n",
    "h_arm_support = '-'\n",
    "v_arm_support = '|'\n",
    "v_arm_spaces = ' '\n",
    "v_arm_vs = '\\n'\n",
    "\n",
    "#BY using following syntax of FUNCTION_NAME.ATTRIBUTE to assign values we can use that attribute outside the function\n",
    "#But for using that attribbute outside the function we need to make a call to the function once\n",
    "\n",
    "def square_block():\n",
    "    square_block.horizontal = (((h_arm_corners+h_arm_support*length_of_arm)*number_of_columns))\n",
    "    square_block.vertical = ((((v_arm_support+v_arm_spaces*length_of_arm)*number_of_columns)))\n",
    "    \n",
    "square_block()\n",
    "print(((((square_block.horizontal+h_arm_corners+'\\n'+square_block.vertical+v_arm_support+'\\n')*number_of_rows))+square_block.horizontal)+h_arm_corners)"
   ]
  }
 ],
 "metadata": {
  "kernelspec": {
   "display_name": "Python 3",
   "language": "python",
   "name": "python3"
  },
  "language_info": {
   "codemirror_mode": {
    "name": "ipython",
    "version": 3
   },
   "file_extension": ".py",
   "mimetype": "text/x-python",
   "name": "python",
   "nbconvert_exporter": "python",
   "pygments_lexer": "ipython3",
   "version": "3.8.3"
  }
 },
 "nbformat": 4,
 "nbformat_minor": 4
}
