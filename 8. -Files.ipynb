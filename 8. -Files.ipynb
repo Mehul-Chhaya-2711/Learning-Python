{
 "cells": [
  {
   "cell_type": "code",
   "execution_count": 18,
   "metadata": {},
   "outputs": [
    {
     "name": "stdout",
     "output_type": "stream",
     "text": [
      "Current Working Directory is  C:\\Users\\Mehul \n",
      "\n",
      "\n",
      "Folder: D:\\Software Installers\\Adobe\n",
      "Folder: D:\\Software Installers\\Anaconda\n",
      "     File: D:\\Software Installers\\Anaconda\\Anaconda3-2020.07-Windows-x86_64.exe\n"
     ]
    }
   ],
   "source": [
    "#Exercise:\n",
    "\n",
    "# print following text\n",
    "# IT should be containing all the files contained under all the folders of specified location.\n",
    "\n",
    "import os\n",
    "current_working_directory = os.getcwd()     # lets you know the current working directory you are working from\n",
    "print('Current Working Directory is ',current_working_directory,'\\n\\n')\n",
    "\n",
    "def recurse_folders(path):\n",
    "    for folders in os.listdir(path):        #returns a list with directories' element names in it such as folders/files/apps etc\n",
    "        path1 = os.path.join(path, folders) #expands the original path by appending list elements to it\n",
    "        if os.path.isfile(path1):           #If the new path is a file, prints it as file and continues with next \n",
    "            print('     File:',path1)\n",
    "        else:                               #If the new path is also a path and not a file it will search further in it for files and folders\n",
    "            print('Folder:',path1)\n",
    "            recurse_folders(path1)\n",
    "                \n",
    "recurse_folders('D:\\Software Installers') "
   ]
  }
 ],
 "metadata": {
  "kernelspec": {
   "display_name": "Python 3",
   "language": "python",
   "name": "python3"
  },
  "language_info": {
   "codemirror_mode": {
    "name": "ipython",
    "version": 3
   },
   "file_extension": ".py",
   "mimetype": "text/x-python",
   "name": "python",
   "nbconvert_exporter": "python",
   "pygments_lexer": "ipython3",
   "version": "3.8.3"
  }
 },
 "nbformat": 4,
 "nbformat_minor": 4
}
