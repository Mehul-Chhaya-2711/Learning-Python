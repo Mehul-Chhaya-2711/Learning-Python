{
 "cells": [
  {
   "cell_type": "code",
   "execution_count": 21,
   "metadata": {},
   "outputs": [
    {
     "name": "stdout",
     "output_type": "stream",
     "text": [
      "Hello World\n"
     ]
    }
   ],
   "source": [
    "#Hello World\n",
    "\n",
    "\n",
    "#Practicing print statement\n",
    "\n",
    "print('Hello World') #Press CTRL + ENTER to view output\n",
    "\n",
    "#Type of errors print function can throw - THESE ARE SYNTAX ERROR\n",
    "#1.\n",
    "#prin('Hello World') #This will throw undefinned error meaning there is no such function as prin in python's libraries\n",
    "#2.\n",
    "#print('Hello world) #This will throw EOL 'End of Line' while scanning string literal: \n",
    "#Which means from the start of an inverted comma it will take everything as a string \n",
    "#until it finds another inverted comma which in our case results in an error where in a function's \n",
    "#parenthesis does not get closed and hence remain unexecuted"
   ]
  },
  {
   "cell_type": "code",
   "execution_count": 22,
   "metadata": {},
   "outputs": [
    {
     "name": "stdout",
     "output_type": "stream",
     "text": [
      "AVG_TIME: 6.959999999999999  Minutes\n",
      "AVG_SPEED: 8.620689655172415  MILES/HOUR\n"
     ]
    }
   ],
   "source": [
    "#A simple problem:\n",
    "\n",
    "\n",
    "    #If you run a 10 kilometer race in 43 minutes 30 seconds, what is your average time per mile? What\n",
    "    #is your average speed in miles per hour? (Hint: there are 1.61 kilometers in a mile).\n",
    "K = 10\n",
    "M = K/1.6\n",
    "T = 43.5/60\n",
    "AVG_TIME = T/M\n",
    "print('AVG_TIME:',AVG_TIME*60,' Minutes')\n",
    "AVG_SPEED = M/T\n",
    "print('AVG_SPEED:',AVG_SPEED,' MILES/HOUR')"
   ]
  },
  {
   "cell_type": "code",
   "execution_count": 23,
   "metadata": {},
   "outputs": [
    {
     "name": "stdout",
     "output_type": "stream",
     "text": [
      "(1, 0, 0)\n",
      "<class 'tuple'>\n",
      "1000000\n",
      "<class 'int'>\n"
     ]
    }
   ],
   "source": [
    "#Example of semantic error\n",
    "\n",
    "\n",
    "#1 million = 1,000,000\n",
    "a = 1,000,000\n",
    "b = 1000000\n",
    "print(a) # (1, 0, 0)\n",
    "print(type(a)) #<class 'tuple'>\n",
    "print(b) # 1000000\n",
    "print(type(b)) #<class 'int'>\n",
    "#Code ran fine but was the output in a intended? NO! It is something called tuple and not an integer of 1 million worth\n",
    "#How to know type of a value? Type type(value)\""
   ]
  },
  {
   "cell_type": "code",
   "execution_count": 24,
   "metadata": {},
   "outputs": [
    {
     "name": "stdout",
     "output_type": "stream",
     "text": [
      "8.5 type of value is:  <class 'float'>\n",
      "8.5 type of value is:  <class 'float'>\n",
      "4.0 type of value is:  <class 'float'>\n",
      "11 type of value is:  <class 'int'>\n",
      "..... type of value is:  <class 'str'>\n"
     ]
    }
   ],
   "source": [
    "#2 special operators + AND *\n",
    "\n",
    "width = 17\n",
    "height = 12.0\n",
    "delimiter = '.'\n",
    "\n",
    "\n",
    "print(width/2,'type of value is: ',type(width/2)) #python 3 generally stores values in float\n",
    "print(width/2.0,'type of value is: ',type(width/2.0)) #division by float vakue example\n",
    "print(height/3,'type of value is: ',type(height/3)) #division by float value example\n",
    "print(1 + 2 * 5,'type of value is: ',type(1 + 2 * 5)) #PEMDAS example: precedence of * (multiplication) over (addition)\n",
    "print(delimiter*5,'type of value is: ',type(delimiter*5)) # * used in strings concatenate the string with itself the number of times specified. Here it is 5"
   ]
  },
  {
   "cell_type": "code",
   "execution_count": 25,
   "metadata": {},
   "outputs": [
    {
     "name": "stdout",
     "output_type": "stream",
     "text": [
      "Volume of sphere 523.8095238095237\n",
      "Total Wholesale Cost is  945.4499999999999\n",
      "The time I will get back for breakfast will be  7 : 30\n"
     ]
    }
   ],
   "source": [
    "#A Few Simple Examples\n",
    "\n",
    "# 1. The volume of a sphere with radius r is 4/3(PI)r3. What is the volume of a sphere with radius 5?\n",
    "# 2. Suppose the cover price of a book is $24.95, but bookstores get a 40% discount. Shipping costs\n",
    "#     $3 for the first copy and 75 cents for each additional copy. What is the total wholesale cost for\n",
    "#     60 copies?\n",
    "# 3. If I leave my house at 6:52 am and run 1 mile at an easy pace (8:15 per mile), then 3 miles at\n",
    "#    tempo (7:12 per mile) and 1 mile at easy pace again, what time do I get home for breakfast?\n",
    "\n",
    "#answer 1\n",
    "\n",
    "radius = 5\n",
    "volume = (4/3)*(22/7)*(radius)**3  # using ** for an exponentiation operation . ^ can also be used\n",
    "print('Volume of sphere',volume)\n",
    "\n",
    "#Answer 2\n",
    "CP = 24.95\n",
    "D = 0.40\n",
    "SC = 3\n",
    "SCA = 0.75\n",
    "B = 60\n",
    "total_wholesale_cost = B*CP*(1-D) + SC + ((B-1)*SCA)\n",
    "print('Total Wholesale Cost is ',total_wholesale_cost)\n",
    "\n",
    "#Answer 3\n",
    "start_time = (6*60) + 52\n",
    "ep = 8.25*2\n",
    "tempo = 3*(7 + (12/60))\n",
    "total_walk_time = ep + tempo\n",
    "end_time = start_time + total_walk_time\n",
    "print('The time I will get back for breakfast will be ',int(end_time//60),':',int(end_time%60)) # // operator gives QUOTIENT and % operator gives reminder"
   ]
  },
  {
   "cell_type": "code",
   "execution_count": 29,
   "metadata": {},
   "outputs": [
    {
     "name": "stdout",
     "output_type": "stream",
     "text": [
      "523.8095238095237\n",
      "'float' object is not callable\n"
     ]
    },
    {
     "name": "stderr",
     "output_type": "stream",
     "text": [
      "<>:7: SyntaxWarning: 'float' object is not callable; perhaps you missed a comma?\n",
      "<>:7: SyntaxWarning: 'float' object is not callable; perhaps you missed a comma?\n",
      "<ipython-input-29-978451e6cb39>:7: SyntaxWarning: 'float' object is not callable; perhaps you missed a comma?\n",
      "  volume2 = (4/3)(22/7)*(radius)**3  #here i have deliberately missed an asterisk getting us 'float' object is not callable error\n"
     ]
    }
   ],
   "source": [
    "#one awkward error encountered\n",
    "\n",
    "radius = 5\n",
    "volume1 = (4/3)*(22/7)*(radius)**3 \n",
    "print(volume1)\n",
    "try:\n",
    "    volume2 = (4/3)(22/7)*(radius)**3  #here i have deliberately missed an asterisk getting us 'float' object is not callable error\n",
    "except TypeError as error:\n",
    "    print(error) #here we are printing the error\n",
    "    \n",
    "# Such an error as above happens when a certain data type like float/string are called as function. \n",
    "# Meaning (4/3) might seem something like def (4/3):  with (22/7) as its value which seriosly does not make any \n",
    "# sense to coder as well as to interpreter. Hence in a mathematical operation never forget to use the appropriate \n",
    "# operator in appropriate place\n"
   ]
  }
 ],
 "metadata": {
  "kernelspec": {
   "display_name": "Python 3",
   "language": "python",
   "name": "python3"
  },
  "language_info": {
   "codemirror_mode": {
    "name": "ipython",
    "version": 3
   },
   "file_extension": ".py",
   "mimetype": "text/x-python",
   "name": "python",
   "nbconvert_exporter": "python",
   "pygments_lexer": "ipython3",
   "version": "3.8.3"
  }
 },
 "nbformat": 4,
 "nbformat_minor": 4
}
