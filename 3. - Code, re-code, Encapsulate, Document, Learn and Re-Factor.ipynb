{
 "cells": [
  {
   "cell_type": "code",
   "execution_count": null,
   "metadata": {},
   "outputs": [],
   "source": [
    "# For this lessons following are important packages\n",
    "\n",
    "# 1. tkinter\n",
    "# 2. swampy\n",
    "\n",
    "# This ipynb cannot store graphical outputs so run it for your self and enjoyyy!!"
   ]
  },
  {
   "cell_type": "code",
   "execution_count": 2,
   "metadata": {},
   "outputs": [
    {
     "name": "stdout",
     "output_type": "stream",
     "text": [
      "<swampy.TurtleWorld.Turtle object at 0x000002C8CE15B4C0>\n"
     ]
    }
   ],
   "source": [
    "from swampy.TurtleWorld import *     #import everything from the TurtleWorld module in the swampy package\n",
    "world = TurtleWorld()\n",
    "bob = Turtle()\n",
    "print(bob)\n",
    "wait_for_user()                      #“instance” means a member of a set\n",
    "# wait_for_user tells TurtleWorld to wait for the user to do something, although in this case\n",
    "# there’s not much for the user to do except close the window"
   ]
  },
  {
   "cell_type": "code",
   "execution_count": 2,
   "metadata": {},
   "outputs": [
    {
     "name": "stdout",
     "output_type": "stream",
     "text": [
      "<swampy.TurtleWorld.Turtle object at 0x000001B29EFD42E0>\n"
     ]
    }
   ],
   "source": [
    "#Drawing a square using swampy\n",
    "from swampy.TurtleWorld import *     #import everything from the TurtleWorld module in the swampy package\n",
    "world = TurtleWorld()\n",
    "bob = Turtle()\n",
    "fd(bob, 100)                         #fd function moves the cursor by specified number of paces in forward direction\n",
    "lt(bob)                              #lt changes the direction of cursor to left\n",
    "fd(bob, 100)\n",
    "lt(bob)\n",
    "fd(bob, 100)\n",
    "lt(bob)\n",
    "fd(bob, 100)\n",
    "print(bob)\n",
    "wait_for_user()"
   ]
  },
  {
   "cell_type": "code",
   "execution_count": 2,
   "metadata": {},
   "outputs": [
    {
     "name": "stdout",
     "output_type": "stream",
     "text": [
      "<swampy.TurtleWorld.Turtle object at 0x000002A110376F40>\n"
     ]
    }
   ],
   "source": [
    "#Re-wtiting above program using loop\n",
    "#Drawing a square using swampy\n",
    "from swampy.TurtleWorld import *     #import everything from the TurtleWorld module in the swampy package\n",
    "world = TurtleWorld()\n",
    "bob = Turtle()\n",
    "for i in range(4):\n",
    "    fd(bob, 100)                         #fd function moves the cursor by specified number of paces in forward direction\n",
    "    lt(bob)                              #lt changes the direction of cursor to left\n",
    "print(bob)\n",
    "wait_for_user()"
   ]
  },
  {
   "cell_type": "code",
   "execution_count": 2,
   "metadata": {},
   "outputs": [
    {
     "name": "stdout",
     "output_type": "stream",
     "text": [
      "<swampy.TurtleWorld.Turtle object at 0x0000026718C7C790>\n",
      "<swampy.TurtleWorld.Turtle object at 0x0000026718C54D60>\n"
     ]
    }
   ],
   "source": [
    "#Using functions and loops together\n",
    "# Write a function called square that takes a parameter named t, which is a turtle. It\n",
    "# should use the turtle to draw a square.\n",
    "# Write a function call that passes bob as an argument to square, and then run the\n",
    "# program again.\n",
    "\n",
    "from swampy.TurtleWorld import *\n",
    "world = TurtleWorld()\n",
    "bob = Turtle()\n",
    "def square(t):\n",
    "    for i in range(4):\n",
    "        fd(t,100)\n",
    "        lt(t)\n",
    "    print(t)    \n",
    "square(bob)        \n",
    "wait_for_user()\n",
    "\n",
    "# Add another parameter, named length, to square. Modify the body so length of the\n",
    "# sides is length, and then modify the function call to provide a second argument. Run\n",
    "# the program again. Test your program with a range of values for length.\n",
    "\n",
    "#THIS WILL MAKE THE SQUARE SIZE VARY\n",
    "from swampy.TurtleWorld import *\n",
    "world = TurtleWorld()\n",
    "bob = Turtle()\n",
    "def square(t,l):\n",
    "    for i in range(4):\n",
    "        fd(t,l)\n",
    "        lt(t)\n",
    "    print(t)    \n",
    "square(bob,500) \n",
    "wait_for_user()"
   ]
  },
  {
   "cell_type": "code",
   "execution_count": 3,
   "metadata": {},
   "outputs": [
    {
     "name": "stdout",
     "output_type": "stream",
     "text": [
      "<swampy.TurtleWorld.Turtle object at 0x0000026718C7C430>\n"
     ]
    }
   ],
   "source": [
    "#Let us make polygons\n",
    "# The functions lt and rt make 90-degree turns by default, but you can provide a\n",
    "# second argument that specifies the number of degrees. For example, lt(bob, 45)\n",
    "# turns bob 45 degrees to the left.\n",
    "# Make a copy of square and change the name to polygon. Add another parameter\n",
    "# named n and modify the body so it draws an n-sided regular polygon. Hint: The\n",
    "# exterior angles of an n-sided regular polygon are 360/n degrees\n",
    "\n",
    "#THIS WILL MAKE THE POLLYGON ANGLES VARY \n",
    "from swampy.TurtleWorld import *\n",
    "world = TurtleWorld()\n",
    "bob = Turtle()\n",
    "def square(t,l,n):\n",
    "    for i in range(n):\n",
    "        fd(t,l)\n",
    "        lt(t,360/n)\n",
    "    print(t)    \n",
    "square(bob,50,8) \n",
    "wait_for_user()"
   ]
  },
  {
   "cell_type": "code",
   "execution_count": 26,
   "metadata": {},
   "outputs": [
    {
     "name": "stdout",
     "output_type": "stream",
     "text": [
      "<swampy.TurtleWorld.Turtle object at 0x000001FB5CDBC130>\n"
     ]
    }
   ],
   "source": [
    "# Write a function called circle that takes a turtle, t, and radius, r, as parameters and\n",
    "# that draws an approximate circle by invoking polygon with an appropriate length\n",
    "# and number of sides. Test your function with a range of values of r.\n",
    "\n",
    "# Hint: figure out the circumference of the circle and make sure that length * n =\n",
    "# circumference.\n",
    "# Another hint: if bob is too slow for you, you can speed him up by changing\n",
    "# bob.delay, which is the time between moves, in seconds. bob.delay = 0.01 ought\n",
    "# to get him moving.\n",
    "\n",
    "from swampy.TurtleWorld import *\n",
    "world = TurtleWorld()\n",
    "bob = Turtle()\n",
    "bob.delay = 0.01\n",
    "def circle(t,Radius):\n",
    "    circumference = 2*(22/7)*Radius\n",
    "    length = circumference/360\n",
    "    for i in range(360):\n",
    "        fd(t,length)\n",
    "        lt(t,1)\n",
    "    print(t)    \n",
    "circle(bob,50) \n",
    "wait_for_user()"
   ]
  },
  {
   "cell_type": "code",
   "execution_count": 6,
   "metadata": {},
   "outputs": [
    {
     "name": "stdout",
     "output_type": "stream",
     "text": [
      "<swampy.TurtleWorld.Turtle object at 0x000001CCFC36A5E0>\n"
     ]
    }
   ],
   "source": [
    "# Make a more general version of circle called arc that takes an additional parameter\n",
    "# angle, which determines what fraction of a circle to draw. angle is in units of degrees,\n",
    "# so when angle=360, arc should draw a complete circle.\n",
    "\n",
    "from swampy.TurtleWorld import *\n",
    "world = TurtleWorld()\n",
    "bob = Turtle()\n",
    "bob.delay = 0.01\n",
    "def arc(t,Radius,angle):\n",
    "    \"\"\"Draws n line segments with the given length and\n",
    "    angle (in degrees) between them. t is a turtle.\n",
    "    \"\"\"\n",
    "    circumference = 2*(22/7)*Radius\n",
    "    length = circumference/360\n",
    "    for i in range(angle):\n",
    "        fd(t,length)\n",
    "        lt(t,1)\n",
    "    print(t)    \n",
    "arc(bob,60,120)\n",
    "wait_for_user()"
   ]
  },
  {
   "cell_type": "code",
   "execution_count": 5,
   "metadata": {},
   "outputs": [
    {
     "name": "stdout",
     "output_type": "stream",
     "text": [
      "Following are the lessons\n",
      "\n",
      "1. Use loops to avoid redundancy while writing codes\n",
      "\n",
      "2. ENCAPSULATION: A funtion ENCAPSULATES a code which enables better re-usability. In our case the definitions of all functions remain almost exactly same. Move forward and then face left for desired amount of time But same can be used multiple time; to create a square, an arc or a circle or polygon. SO?\n",
      " We ENCAPCULATE the MOVEMENT DEFINITIONS under one function with different arguments. Use the same casing for storing different purpose drugs that is it!!\n",
      "\n",
      "3. INSTANCE: BOB could be instanced many times, like using BOB for creating a square was one for that sake, we again used BOB to create a circle, a square and a polygon. Bascially BOB is one genie pulled out of lamp every time for different purposes. Those each pulling out of genie is each a specific instance of genies existence outside the box.\n",
      "\n",
      "4. Generalization: Adding a parameter to a function is called generalization because it makes the function more general: Like we used same function SQUARE but this time we allowed the function to draw as many sides making it a polygon and hence generalized the function to print a figure with n number of sides and not only a square with 4 sides.\n",
      "\n",
      "5. KeyWord Arguments: length, angle and number of sides are keyword arguments for our functions. Not be confused with python languages keywords. These are specific to functions only.\n",
      "\n",
      "6. InterFace & Refactoring: The interface of a function is a summary of how it is used: what are the parameters? What does the function do? And what is the return value? An interface is “clean” if it is “as simple as possible, but not simpler. (Einstein)”. rearranging a program to improve function interfaces and facilitate code reuse— is called refactoring. For example, we drew a square and modified the code all the way through square; polygon with n sides, polygon with 360 sides (approximating it to a circle) and finally limiting the sides to get an arc of specified angle. We modified function everytime we learnt something new and implemented the learning by re-shaping the code which is nothing but -re factoring. Factoring again the things we learnt.\n",
      "\n",
      "7. Development Plan: a Small program with no Functions >>> Encapsulate the final version in function >>> Generalize function by adding parameters >>> Repeat until you have a working easy to get code.\n",
      "\n",
      "8. DOCSTRING: A docstring is a string at the beginning of a function that explains the interface (“doc” is short for “documentation”). \n"
     ]
    }
   ],
   "source": [
    "print('Following are the lessons\\n\\n1. Use loops to avoid redundancy while writing codes\\n\\n2. ENCAPSULATION: A funtion ENCAPSULATES a code which enables better re-usability. In our case the definitions of all functions remain almost exactly same. Move forward and then face left for desired amount of time But same can be used multiple time; to create a square, an arc or a circle or polygon. SO?\\n We ENCAPCULATE the MOVEMENT DEFINITIONS under one function with different arguments. Use the same casing for storing different purpose drugs that is it!!\\n\\n3. INSTANCE: BOB could be instanced many times, like using BOB for creating a square was one for that sake, we again used BOB to create a circle, a square and a polygon. Bascially BOB is one genie pulled out of lamp every time for different purposes. Those each pulling out of genie is each a specific instance of genies existence outside the box.\\n\\n4. Generalization: Adding a parameter to a function is called generalization because it makes the function more general: Like we used same function SQUARE but this time we allowed the function to draw as many sides making it a polygon and hence generalized the function to print a figure with n number of sides and not only a square with 4 sides.\\n\\n5. KeyWord Arguments: length, angle and number of sides are keyword arguments for our functions. Not be confused with python languages keywords. These are specific to functions only.\\n\\n6. InterFace & Refactoring: The interface of a function is a summary of how it is used: what are the parameters? What does the function do? And what is the return value? An interface is “clean” if it is “as simple as possible, but not simpler. (Einstein)”. rearranging a program to improve function interfaces and facilitate code reuse— is called refactoring. For example, we drew a square and modified the code all the way through square; polygon with n sides, polygon with 360 sides (approximating it to a circle) and finally limiting the sides to get an arc of specified angle. We modified function everytime we learnt something new and implemented the learning by re-shaping the code which is nothing but -re factoring. Factoring again the things we learnt.\\n\\n7. Development Plan: a Small program with no Functions >>> Encapsulate the final version in function >>> Generalize function by adding parameters >>> Repeat until you have a working easy to get code.\\n\\n8. DOCSTRING: A docstring is a string at the beginning of a function that explains the interface (“doc” is short for “documentation”). ')"
   ]
  }
 ],
 "metadata": {
  "kernelspec": {
   "display_name": "Python 3",
   "language": "python",
   "name": "python3"
  },
  "language_info": {
   "codemirror_mode": {
    "name": "ipython",
    "version": 3
   },
   "file_extension": ".py",
   "mimetype": "text/x-python",
   "name": "python",
   "nbconvert_exporter": "python",
   "pygments_lexer": "ipython3",
   "version": "3.8.3"
  }
 },
 "nbformat": 4,
 "nbformat_minor": 4
}
