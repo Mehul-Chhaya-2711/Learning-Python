{
 "cells": [
  {
   "cell_type": "code",
   "execution_count": 5,
   "metadata": {},
   "outputs": [
    {
     "name": "stdout",
     "output_type": "stream",
     "text": [
      "09:45:00\n"
     ]
    }
   ],
   "source": [
    "# It is basically writing a function inside class.\n",
    "# This part is not needed basically but the syntax sometimes makes more sense then any other ways\n",
    "\n",
    "\n",
    "# Let us create a class Time\n",
    "\n",
    "class Time(object):\n",
    "    \"\"\"Represents the time of day.\"\"\"\n",
    "\n",
    "#let us create a function to print time\n",
    "def print_time(time):\n",
    "    print ('%.2d:%.2d:%.2d' % (time.hour, time.minute, time.second))\n",
    "\n",
    "#Let us create an instance of the class\n",
    "start = Time()\n",
    "start.hour = 9\n",
    "start.minute = 45\n",
    "start.second = 00\n",
    "\n",
    "#Let us print the time using the function created\n",
    "print_time(start)"
   ]
  },
  {
   "cell_type": "code",
   "execution_count": 10,
   "metadata": {},
   "outputs": [
    {
     "name": "stdout",
     "output_type": "stream",
     "text": [
      "09:45:00\n",
      "09:45:00\n"
     ]
    }
   ],
   "source": [
    "# Now let us follow the MODULE way\n",
    "\n",
    "# In Module we will simply write the function in the class it self; as in the function applies to this class only\n",
    "# like certain methods apply to lists only and not dictionary\n",
    "\n",
    "class Time(object):\n",
    "    \"\"\"Represents the time of day.\"\"\"\n",
    "    def print_time(time):\n",
    "        print ('%.2d:%.2d:%.2d' % (time.hour, time.minute, time.second))\n",
    "\n",
    "#Let us create an instance of the class\n",
    "start = Time()\n",
    "start.hour = 9\n",
    "start.minute = 45\n",
    "start.second = 00\n",
    "\n",
    "Time.print_time(start) #This synatx is like telling the print_time that here is an object for you to work upon; which is start\n",
    "start.print_time()  #This type of syntax is METHOD SYNTAX ; method is print_time which is invoked by object start which is nothing but an instance of Time class"
   ]
  },
  {
   "cell_type": "code",
   "execution_count": 15,
   "metadata": {},
   "outputs": [
    {
     "name": "stdout",
     "output_type": "stream",
     "text": [
      "10:50:30\n",
      "09:45:00\n"
     ]
    }
   ],
   "source": [
    "#How to instantiate a class? Like how to give default values to class's istance in absence of inputs\n",
    "\n",
    "#here we use__init__ \n",
    "\n",
    "#Creating a class time\n",
    "class Time(object):\n",
    "    \"\"\"Here we give initial values to class attributes so that if none is provided they'll be used\n",
    "    But that does not mean we cannot modify the attributes. We still can modify the attribues and use class.\n",
    "    \n",
    "    self here works as providing the value to self; meaning, these instantiations will be pointing to the same class\n",
    "    attributes they are mapped to\"\"\"\n",
    "    def __init__(self, hour=10, minute=50, second=30):\n",
    "        self.hour = hour\n",
    "        self.minute = minute\n",
    "        self.second = second\n",
    "    def print_time(time):\n",
    "        print ('%.2d:%.2d:%.2d' % (time.hour, time.minute, time.second))\n",
    "\n",
    "#print default class attributes\n",
    "time = Time()        \n",
    "time.print_time() \n",
    "\n",
    "#print user required class values\n",
    "start = Time()\n",
    "start.hour = 9\n",
    "start.minute = 45\n",
    "start.second = 00\n",
    "start.print_time()"
   ]
  },
  {
   "cell_type": "code",
   "execution_count": 34,
   "metadata": {},
   "outputs": [
    {
     "name": "stdout",
     "output_type": "stream",
     "text": [
      "(0, 11, 21, 26)\n"
     ]
    }
   ],
   "source": [
    "#OPERATOR OVERLOADING\n",
    "\n",
    "# Changing the behavior of an operator so that it works with user-defined types is called operator\n",
    "# overloading\n",
    "\n",
    "class Time(object):\n",
    "    def __init__(self, hour=10, minute=50, second=30):\n",
    "        self.hour = hour\n",
    "        self.minute = minute\n",
    "        self.second = second\n",
    "    def __add__(self, other):\n",
    "        \"\"\"if you define a method named __add__ for the Time class,\n",
    "           you can use the + operator on Time objects.\"\"\"\n",
    "        seconds = self.time_2_int() + other.time_2_int()\n",
    "        return(Time.int_2_time(seconds))    #Here the function is under Time class and hence we need to call it as a method of class\n",
    "        #If the function was a global one i.e. outside the cass definition we could have omitted the 'Time.' part\n",
    "    def time_2_int(t1):\n",
    "        \"\"\"Let us convert the times in to absolute seconds passes post 12:00 AM\"\"\"\n",
    "        time_1 = t1.hour*3600+t1.minute*60+t1.second\n",
    "        return(time_1)\n",
    "    def int_2_time(seconds):\n",
    "        new_time = Time()\n",
    "        new_time.day = 0                              #we can add an extra attribute to class object anytime we wish\n",
    "        minutes,new_time.seconds = divmod(seconds,60) #divmod will return a tuple of quotient and reminder\n",
    "        hour,new_time.minutes = divmod(minutes,60)    #divmod will return a tuple of quotient and reminder\n",
    "        day,new_time.hours = divmod(hour,24)\n",
    "        new_time.hour = hour\n",
    "        new_time.day = day\n",
    "        return(new_time.day,new_time.hour,new_time.minutes,new_time.seconds)\n",
    "    \n",
    "    \n",
    "start = Time(9, 45)\n",
    "duration = Time(1, 35, 56)\n",
    "print (start + duration)    "
   ]
  },
  {
   "cell_type": "code",
   "execution_count": 43,
   "metadata": {},
   "outputs": [
    {
     "name": "stdout",
     "output_type": "stream",
     "text": [
      "(0, 11, 21, 0)\n",
      "(0, 10, 7, 47)\n"
     ]
    }
   ],
   "source": [
    "#TYPE BASED DISPATCH : CLASS WILL LOOK AT THE TYPE OF THE ARGUMENT PASSED AND DECIDE WHAT NEEDS TO BE DONE\n",
    "\n",
    "class Time(object):\n",
    "    def __init__(self, hour=10, minute=50, second=30):\n",
    "        self.hour = hour\n",
    "        self.minute = minute\n",
    "        self.second = second\n",
    "    def __add__(self, other):\n",
    "        if isinstance(other, Time):\n",
    "            \"\"\"The built-in function isinstance takes a value and a class object, and returns True if the\n",
    "               value is an instance of the class.\"\"\"\n",
    "            return self.add_time(other)\n",
    "        else:\n",
    "            return self.increment(other)\n",
    "    def time_2_int(t1):\n",
    "        \"\"\"Let us convert the times in to absolute seconds passes post 12:00 AM\"\"\"\n",
    "        time_1 = t1.hour*3600+t1.minute*60+t1.second\n",
    "        return(time_1)\n",
    "    def int_2_time(seconds):\n",
    "        new_time = Time()\n",
    "        new_time.day = 0                              #we can add an extra attribute to class object anytime we wish\n",
    "        minutes,new_time.seconds = divmod(seconds,60) #divmod will return a tuple of quotient and reminder\n",
    "        hour,new_time.minutes = divmod(minutes,60)    #divmod will return a tuple of quotient and reminder\n",
    "        day,new_time.hours = divmod(hour,24)\n",
    "        new_time.hour = hour\n",
    "        new_time.day = day\n",
    "        return(new_time.day,new_time.hour,new_time.minutes,new_time.seconds)    \n",
    "    def add_time(self, other):\n",
    "        seconds = self.time_2_int() + other.time_2_int()\n",
    "        return Time.int_2_time(seconds)\n",
    "    def increment(self, seconds):\n",
    "        seconds += self.time_2_int()\n",
    "        return Time.int_2_time(seconds)\n",
    "    \n",
    "start = Time(9, 45)\n",
    "duration = Time(1, 35)\n",
    "print (start + duration)\n",
    "print (start + 1337)"
   ]
  },
  {
   "cell_type": "code",
   "execution_count": null,
   "metadata": {},
   "outputs": [],
   "source": []
  }
 ],
 "metadata": {
  "kernelspec": {
   "display_name": "Python 3",
   "language": "python",
   "name": "python3"
  },
  "language_info": {
   "codemirror_mode": {
    "name": "ipython",
    "version": 3
   },
   "file_extension": ".py",
   "mimetype": "text/x-python",
   "name": "python",
   "nbconvert_exporter": "python",
   "pygments_lexer": "ipython3",
   "version": "3.8.3"
  }
 },
 "nbformat": 4,
 "nbformat_minor": 4
}
