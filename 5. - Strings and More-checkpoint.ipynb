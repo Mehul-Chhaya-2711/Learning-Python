{
 "cells": [
  {
   "cell_type": "code",
   "execution_count": 7,
   "metadata": {},
   "outputs": [
    {
     "name": "stdout",
     "output_type": "stream",
     "text": [
      "ruit\n",
      "fru\n",
      "uit\n",
      "u\n",
      "fruit\n"
     ]
    }
   ],
   "source": [
    "#STRINGS ARE IMMUTABLE\n",
    "\n",
    "string = 'fruit'\n",
    "\n",
    "\n",
    "print(string[1:]) #Skip first letter and output rest\n",
    "print(string[:3]) #Output first 3 characters\n",
    "print(string[2:]) #skip first 2 letters and output rest\n",
    "print(string[2:3]) #Output the middle letter\n",
    "print(string[:]) #Only colon ':' means outputting the whole string"
   ]
  },
  {
   "cell_type": "code",
   "execution_count": 10,
   "metadata": {},
   "outputs": [
    {
     "name": "stdout",
     "output_type": "stream",
     "text": [
      "IS not a Palindrome\n",
      "Is Palindrome\n",
      "Is Palindrome\n"
     ]
    }
   ],
   "source": [
    "# A string slice can take a third index that specifies the “step size;” that is, the number\n",
    "# of spaces between successive characters. A step size of 2 means every other character; 3 means every\n",
    "# third, etc.\n",
    "# >>> fruit = 'banana'\n",
    "# >>> fruit[0:5:2]\n",
    "# 'bnn'\n",
    "# A step size of -1 goes through the word backwards, so the slice [::-1] generates a reversed string.\n",
    "\n",
    "# Use this idiom to write a one-line version of is_palindrome\n",
    "\n",
    "def is_palindrome(n):\n",
    "    if n[::-1] == n:print('Is Palindrome')\n",
    "    else: print('IS not a Palindrome')\n",
    "        \n",
    "is_palindrome('mehul')\n",
    "is_palindrome('aba')\n",
    "is_palindrome('qwertrewq')"
   ]
  },
  {
   "cell_type": "code",
   "execution_count": 37,
   "metadata": {},
   "outputs": [
    {
     "name": "stdout",
     "output_type": "stream",
     "text": [
      "jolly\n",
      "cubed\n"
     ]
    }
   ],
   "source": [
    "# ROT13 is a weak form of encryption that involves “rotating” each letter in a word\n",
    "# by 13 places. To rotate a letter means to shift it through the alphabet, wrapping around to the\n",
    "# beginning if necessary, so ’A’ shifted by 3 is ’D’ and ’Z’ shifted by 1 is ’A’.\n",
    "# Write a function called rotate_word that takes a string and an integer as parameters, and that\n",
    "# returns a new string that contains the letters from the original string “rotated” by the given amount.\n",
    "# For example, “cheer” rotated by 7 is “jolly” and “melon” rotated by -10 is “cubed”.\n",
    "\n",
    "alphabets = 'abcdefghijklmnopqrstuvwxyz'\n",
    "\n",
    "index = alphabets.find('z')\n",
    "def ROT13(index,rotate_by):\n",
    "    if index + rotate_by > 25:\n",
    "        index_new = 25-index+rotate_by\n",
    "        index_new_final = 0 + index_new\n",
    "        return alphabets[index_new_final]\n",
    "    else:\n",
    "        return alphabets[index+rotate_by]        \n",
    "                         \n",
    "def rotate_word(word,rotate_by):\n",
    "    rotated = ''\n",
    "    for i in word:\n",
    "        index = alphabets.find(i)\n",
    "        x = ROT13(index,rotate_by)\n",
    "        rotated = rotated + x\n",
    "    print(rotated)    \n",
    "                         \n",
    "\n",
    "rotate_word('cheer',7)        \n",
    "rotate_word('melon',-10)                        "
   ]
  },
  {
   "cell_type": "code",
   "execution_count": 45,
   "metadata": {},
   "outputs": [
    {
     "name": "stdout",
     "output_type": "stream",
     "text": [
      "<_io.TextIOWrapper name='D:\\\\Study Materials\\\\Documents to play with in python\\\\CROSSWD.txt' mode='r' encoding='cp1252'>\n",
      "aa\n",
      "\n",
      "aah\n",
      "\n",
      "aahed\n"
     ]
    }
   ],
   "source": [
    "#File operations\n",
    "file_open = open('D:\\Study Materials\\Documents to play with in python\\CROSSWD.txt')\n",
    "print(file_open)\n",
    "print(file_open.readline())\n",
    "print(file_open.readline())      \n",
    "print(file_open.readline().strip())   #Strip function rmeoves any white spaces and carriage return if any"
   ]
  },
  {
   "cell_type": "code",
   "execution_count": 47,
   "metadata": {},
   "outputs": [
    {
     "name": "stdout",
     "output_type": "stream",
     "text": [
      "Has Letter e\n",
      "Does not have letter e\n",
      "Does not have letter e\n"
     ]
    }
   ],
   "source": [
    "# Write a function called has_no_e that returns True if the given word doesn’t have the letter “e” in\n",
    "# it.\n",
    "\n",
    "def has_no_e(word):\n",
    "    i = 0\n",
    "    for letter in word:\n",
    "        if letter.lower() == 'e':\n",
    "            i = 1 + 1\n",
    "    if i > 0:\n",
    "        print('Has Letter e')\n",
    "    else:\n",
    "        print('Does not have letter e')\n",
    "has_no_e('mehul')    \n",
    "has_no_e('chhaya')  \n",
    "has_no_e('batman')  "
   ]
  },
  {
   "cell_type": "code",
   "execution_count": 51,
   "metadata": {},
   "outputs": [
    {
     "name": "stdout",
     "output_type": "stream",
     "text": [
      "does not contain forbidden letter\n",
      "contains forbidden letters\n",
      "does not contain forbidden letter\n"
     ]
    }
   ],
   "source": [
    "# Write a function named avoids that takes a word and a string of forbidden letters,\n",
    "# and that returns True if the word doesn’t use any of the forbidden letters.\n",
    "\n",
    "def avoid(word,forbidden_letter):\n",
    "    i = 0\n",
    "    for letter in word:\n",
    "        for f_letter in forbidden_letter:\n",
    "            if letter.lower() == f_letter.lower():\n",
    "                i = i+1\n",
    "    if i > 0:\n",
    "        print('contains forbidden letters')\n",
    "    else:\n",
    "        print('does not contain forbidden letter')\n",
    "        \n",
    "avoid('avoid','letter')      \n",
    "avoid('shahrukh','khan') \n",
    "avoid('tom','cruise') "
   ]
  },
  {
   "cell_type": "code",
   "execution_count": 63,
   "metadata": {},
   "outputs": [
    {
     "name": "stdout",
     "output_type": "stream",
     "text": [
      "Does not use prescribed letters\n",
      "Does not use prescribed letters\n",
      "Does not use prescribed letters\n",
      "Uses only the prescribed letters\n",
      "Does not use prescribed letters\n"
     ]
    }
   ],
   "source": [
    "# Write a function named uses_only that takes a word and a string of letters, and\n",
    "# that returns True if the word contains only letters in the list.\n",
    "\n",
    "def uses_only(word,to_be_used):\n",
    "    i = 0\n",
    "    for letter in word:\n",
    "        for f_letter in set(to_be_used):          #set function gets us the unique letters in a string\n",
    "            if letter.lower() == f_letter.lower():\n",
    "                i = i+1\n",
    "    if i == len(word):\n",
    "        print('Uses only the prescribed letters')\n",
    "    else:\n",
    "        print('Does not use prescribed letters')   \n",
    "        \n",
    "uses_only('avoid','letter')      \n",
    "uses_only('shahrukh','khan') \n",
    "uses_only('tom','cruise')\n",
    "uses_only('mehl','mehulchhaya')\n",
    "uses_only('iwillusehijklmno','useonlyabcdefgh')"
   ]
  },
  {
   "cell_type": "code",
   "execution_count": 71,
   "metadata": {},
   "outputs": [
    {
     "name": "stdout",
     "output_type": "stream",
     "text": [
      "Does not use prescribed letters at least once\n",
      "Uses the prescribed letters at least once\n",
      "Does not use prescribed letters at least once\n",
      "Uses the prescribed letters at least once\n",
      "Uses the prescribed letters at least once\n"
     ]
    }
   ],
   "source": [
    "# Write a function named uses_all that takes a word and a string of required letters,\n",
    "# and that returns True if the word uses all the required letters at least once. How many words are\n",
    "\n",
    "def uses_only(word,to_be_used):\n",
    "    i = 0\n",
    "    for letter in set(word):\n",
    "        for f_letter in set(to_be_used):          #set function gets us the unique letters in a string\n",
    "            if letter.lower() == f_letter.lower():\n",
    "                i = i+1\n",
    "    if i > 0:\n",
    "        print('Uses the prescribed letters at least once')\n",
    "    else:\n",
    "        print('Does not use prescribed letters at least once')   \n",
    "        \n",
    "uses_only('avoid','letter')      \n",
    "uses_only('shahrukh','khan') \n",
    "uses_only('tom','cruise')\n",
    "uses_only('mehl','mehulchhaya')\n",
    "uses_only('qwerty','uiopqw')"
   ]
  },
  {
   "cell_type": "code",
   "execution_count": 77,
   "metadata": {},
   "outputs": [
    {
     "name": "stdout",
     "output_type": "stream",
     "text": [
      "True\n",
      "False\n",
      "False\n",
      "False\n"
     ]
    }
   ],
   "source": [
    "# Write a function called is_abecedarian that returns True if the letters in a word\n",
    "# appear in alphabetical order (double letters are ok).\n",
    "\n",
    "def is_abecedarian(word):\n",
    "    previous = word[0]\n",
    "    for c in word:\n",
    "        if c < previous:\n",
    "            return False\n",
    "        previous = c\n",
    "    return True\n",
    "          \n",
    "print(is_abecedarian('abcde')) \n",
    "print(is_abecedarian('aksfha'))\n",
    "print(is_abecedarian('skjdfs')) \n",
    "print(is_abecedarian('abksjdfscde')) "
   ]
  },
  {
   "cell_type": "code",
   "execution_count": 160,
   "metadata": {},
   "outputs": [
    {
     "name": "stdout",
     "output_type": "stream",
     "text": [
      "Problem Solved\n",
      "198888\n",
      "198889\n",
      "198890\n",
      "198891\n",
      "Problem Solved\n",
      "199999\n",
      "200000\n",
      "200001\n",
      "200002\n"
     ]
    }
   ],
   "source": [
    "# “I was driving on the highway the other day and I happened to notice my odometer.\n",
    "# Like most odometers, it shows six digits, in whole miles only. So, if my car had 300,000\n",
    "# miles, for example, I’d see 3-0-0-0-0-0.\n",
    "# “Now, what I saw that day was very interesting. I noticed that the last 4 digits were\n",
    "# palindromic; that is, they read the same forward as backward. For example, 5-4-4-5 is a\n",
    "# palindrome, so my odometer could have read 3-1-5-4-4-5.\n",
    "# “One mile later, the last 5 numbers were palindromic. For example, it could have read\n",
    "# 3-6-5-4-5-6. One mile after that, the middle 4 out of 6 numbers were palindromic. And\n",
    "# you ready for this? One mile later, all 6 were palindromic!\n",
    "# “The question is, what was on the odometer when I first looked?”\n",
    "\n",
    "for i in range(999999):\n",
    "    number = ('%06d' % i)                     #Please refer to this type of string manipulation. Here we are trying to fit a numbers in 6 digit string\n",
    "    if number[2:][::-1] == number[2:]:\n",
    "        number = ('%06d' % (i+1))\n",
    "        if number[1:][::-1] == number[1:]:\n",
    "            number = ('%06d' % (i+2))\n",
    "            if number[1:5][::-1] == number[1:5]:\n",
    "                number = ('%06d' % (i+3))\n",
    "                if number[:][::-1] == number[:]:\n",
    "                    print('Problem Solved')\n",
    "                    print(i)\n",
    "                    print(i+1)\n",
    "                    print(i+2)\n",
    "                    print(i+3)\n",
    "                    \n"
   ]
  }
 ],
 "metadata": {
  "kernelspec": {
   "display_name": "Python 3",
   "language": "python",
   "name": "python3"
  },
  "language_info": {
   "codemirror_mode": {
    "name": "ipython",
    "version": 3
   },
   "file_extension": ".py",
   "mimetype": "text/x-python",
   "name": "python",
   "nbconvert_exporter": "python",
   "pygments_lexer": "ipython3",
   "version": "3.8.3"
  }
 },
 "nbformat": 4,
 "nbformat_minor": 4
}
